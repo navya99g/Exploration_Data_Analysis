{
 "cells": [
  {
   "cell_type": "markdown",
   "id": "7b39b7a5",
   "metadata": {
    "papermill": {
     "duration": 0.010369,
     "end_time": "2025-02-03T04:11:52.693713",
     "exception": false,
     "start_time": "2025-02-03T04:11:52.683344",
     "status": "completed"
    },
    "tags": []
   },
   "source": [
    "#### Import Libraries"
   ]
  },
  {
   "cell_type": "code",
   "execution_count": 3,
   "id": "7ed8f6c4",
   "metadata": {
    "execution": {
     "iopub.execute_input": "2025-02-03T04:11:52.713390Z",
     "iopub.status.busy": "2025-02-03T04:11:52.712971Z",
     "iopub.status.idle": "2025-02-03T04:11:55.695972Z",
     "shell.execute_reply": "2025-02-03T04:11:55.694645Z"
    },
    "papermill": {
     "duration": 2.995081,
     "end_time": "2025-02-03T04:11:55.698170",
     "exception": false,
     "start_time": "2025-02-03T04:11:52.703089",
     "status": "completed"
    },
    "tags": []
   },
   "outputs": [],
   "source": [
    "import pandas as pd , numpy as np, matplotlib.pyplot as plt, seaborn as sns"
   ]
  },
  {
   "cell_type": "markdown",
   "id": "29246f69",
   "metadata": {
    "papermill": {
     "duration": 0.008597,
     "end_time": "2025-02-03T04:11:55.715882",
     "exception": false,
     "start_time": "2025-02-03T04:11:55.707285",
     "status": "completed"
    },
    "tags": []
   },
   "source": [
    "#### Load Datasets"
   ]
  },
  {
   "cell_type": "code",
   "execution_count": 10,
   "id": "451fa421",
   "metadata": {
    "execution": {
     "iopub.execute_input": "2025-02-03T04:11:55.735180Z",
     "iopub.status.busy": "2025-02-03T04:11:55.734662Z",
     "iopub.status.idle": "2025-02-03T04:11:55.781301Z",
     "shell.execute_reply": "2025-02-03T04:11:55.780072Z"
    },
    "papermill": {
     "duration": 0.058579,
     "end_time": "2025-02-03T04:11:55.783326",
     "exception": false,
     "start_time": "2025-02-03T04:11:55.724747",
     "status": "completed"
    },
    "tags": []
   },
   "outputs": [
    {
     "data": {
      "text/html": [
       "<div>\n",
       "<style scoped>\n",
       "    .dataframe tbody tr th:only-of-type {\n",
       "        vertical-align: middle;\n",
       "    }\n",
       "\n",
       "    .dataframe tbody tr th {\n",
       "        vertical-align: top;\n",
       "    }\n",
       "\n",
       "    .dataframe thead th {\n",
       "        text-align: right;\n",
       "    }\n",
       "</style>\n",
       "<table border=\"1\" class=\"dataframe\">\n",
       "  <thead>\n",
       "    <tr style=\"text-align: right;\">\n",
       "      <th></th>\n",
       "      <th>PassengerId</th>\n",
       "      <th>Survived</th>\n",
       "      <th>Pclass</th>\n",
       "      <th>Name</th>\n",
       "      <th>Sex</th>\n",
       "      <th>Age</th>\n",
       "      <th>SibSp</th>\n",
       "      <th>Parch</th>\n",
       "      <th>Ticket</th>\n",
       "      <th>Fare</th>\n",
       "      <th>Cabin</th>\n",
       "      <th>Embarked</th>\n",
       "    </tr>\n",
       "  </thead>\n",
       "  <tbody>\n",
       "    <tr>\n",
       "      <th>0</th>\n",
       "      <td>1</td>\n",
       "      <td>0</td>\n",
       "      <td>3</td>\n",
       "      <td>Braund, Mr. Owen Harris</td>\n",
       "      <td>male</td>\n",
       "      <td>22.0</td>\n",
       "      <td>1</td>\n",
       "      <td>0</td>\n",
       "      <td>A/5 21171</td>\n",
       "      <td>7.2500</td>\n",
       "      <td>NaN</td>\n",
       "      <td>S</td>\n",
       "    </tr>\n",
       "    <tr>\n",
       "      <th>1</th>\n",
       "      <td>2</td>\n",
       "      <td>1</td>\n",
       "      <td>1</td>\n",
       "      <td>Cumings, Mrs. John Bradley (Florence Briggs Th...</td>\n",
       "      <td>female</td>\n",
       "      <td>38.0</td>\n",
       "      <td>1</td>\n",
       "      <td>0</td>\n",
       "      <td>PC 17599</td>\n",
       "      <td>71.2833</td>\n",
       "      <td>C85</td>\n",
       "      <td>C</td>\n",
       "    </tr>\n",
       "    <tr>\n",
       "      <th>2</th>\n",
       "      <td>3</td>\n",
       "      <td>1</td>\n",
       "      <td>3</td>\n",
       "      <td>Heikkinen, Miss. Laina</td>\n",
       "      <td>female</td>\n",
       "      <td>26.0</td>\n",
       "      <td>0</td>\n",
       "      <td>0</td>\n",
       "      <td>STON/O2. 3101282</td>\n",
       "      <td>7.9250</td>\n",
       "      <td>NaN</td>\n",
       "      <td>S</td>\n",
       "    </tr>\n",
       "    <tr>\n",
       "      <th>3</th>\n",
       "      <td>4</td>\n",
       "      <td>1</td>\n",
       "      <td>1</td>\n",
       "      <td>Futrelle, Mrs. Jacques Heath (Lily May Peel)</td>\n",
       "      <td>female</td>\n",
       "      <td>35.0</td>\n",
       "      <td>1</td>\n",
       "      <td>0</td>\n",
       "      <td>113803</td>\n",
       "      <td>53.1000</td>\n",
       "      <td>C123</td>\n",
       "      <td>S</td>\n",
       "    </tr>\n",
       "    <tr>\n",
       "      <th>4</th>\n",
       "      <td>5</td>\n",
       "      <td>0</td>\n",
       "      <td>3</td>\n",
       "      <td>Allen, Mr. William Henry</td>\n",
       "      <td>male</td>\n",
       "      <td>35.0</td>\n",
       "      <td>0</td>\n",
       "      <td>0</td>\n",
       "      <td>373450</td>\n",
       "      <td>8.0500</td>\n",
       "      <td>NaN</td>\n",
       "      <td>S</td>\n",
       "    </tr>\n",
       "  </tbody>\n",
       "</table>\n",
       "</div>"
      ],
      "text/plain": [
       "   PassengerId  Survived  Pclass  \\\n",
       "0            1         0       3   \n",
       "1            2         1       1   \n",
       "2            3         1       3   \n",
       "3            4         1       1   \n",
       "4            5         0       3   \n",
       "\n",
       "                                                Name     Sex   Age  SibSp  \\\n",
       "0                            Braund, Mr. Owen Harris    male  22.0      1   \n",
       "1  Cumings, Mrs. John Bradley (Florence Briggs Th...  female  38.0      1   \n",
       "2                             Heikkinen, Miss. Laina  female  26.0      0   \n",
       "3       Futrelle, Mrs. Jacques Heath (Lily May Peel)  female  35.0      1   \n",
       "4                           Allen, Mr. William Henry    male  35.0      0   \n",
       "\n",
       "   Parch            Ticket     Fare Cabin Embarked  \n",
       "0      0         A/5 21171   7.2500   NaN        S  \n",
       "1      0          PC 17599  71.2833   C85        C  \n",
       "2      0  STON/O2. 3101282   7.9250   NaN        S  \n",
       "3      0            113803  53.1000  C123        S  \n",
       "4      0            373450   8.0500   NaN        S  "
      ]
     },
     "execution_count": 10,
     "metadata": {},
     "output_type": "execute_result"
    }
   ],
   "source": [
    "df = pd.read_csv('/kaggle/input/titanic/train.csv')\n",
    "train = df.copy()\n",
    "train.head()"
   ]
  },
  {
   "cell_type": "code",
   "execution_count": 11,
   "id": "bb6b0566",
   "metadata": {
    "execution": {
     "iopub.execute_input": "2025-02-03T04:11:55.846735Z",
     "iopub.status.busy": "2025-02-03T04:11:55.846337Z",
     "iopub.status.idle": "2025-02-03T04:11:55.874229Z",
     "shell.execute_reply": "2025-02-03T04:11:55.872984Z"
    },
    "papermill": {
     "duration": 0.04008,
     "end_time": "2025-02-03T04:11:55.876169",
     "exception": false,
     "start_time": "2025-02-03T04:11:55.836089",
     "status": "completed"
    },
    "tags": []
   },
   "outputs": [
    {
     "name": "stdout",
     "output_type": "stream",
     "text": [
      "<class 'pandas.core.frame.DataFrame'>\n",
      "RangeIndex: 891 entries, 0 to 890\n",
      "Data columns (total 12 columns):\n",
      " #   Column       Non-Null Count  Dtype  \n",
      "---  ------       --------------  -----  \n",
      " 0   PassengerId  891 non-null    int64  \n",
      " 1   Survived     891 non-null    int64  \n",
      " 2   Pclass       891 non-null    int64  \n",
      " 3   Name         891 non-null    object \n",
      " 4   Sex          891 non-null    object \n",
      " 5   Age          714 non-null    float64\n",
      " 6   SibSp        891 non-null    int64  \n",
      " 7   Parch        891 non-null    int64  \n",
      " 8   Ticket       891 non-null    object \n",
      " 9   Fare         891 non-null    float64\n",
      " 10  Cabin        204 non-null    object \n",
      " 11  Embarked     889 non-null    object \n",
      "dtypes: float64(2), int64(5), object(5)\n",
      "memory usage: 83.7+ KB\n"
     ]
    }
   ],
   "source": [
    "train.info()"
   ]
  },
  {
   "cell_type": "markdown",
   "id": "1c143189",
   "metadata": {
    "papermill": {
     "duration": 0.00892,
     "end_time": "2025-02-03T04:11:55.894823",
     "exception": false,
     "start_time": "2025-02-03T04:11:55.885903",
     "status": "completed"
    },
    "tags": []
   },
   "source": [
    "## EDA"
   ]
  },
  {
   "cell_type": "markdown",
   "id": "56616ba3",
   "metadata": {
    "papermill": {
     "duration": 0.008923,
     "end_time": "2025-02-03T04:11:55.913049",
     "exception": false,
     "start_time": "2025-02-03T04:11:55.904126",
     "status": "completed"
    },
    "tags": []
   },
   "source": [
    "#### Missing Values "
   ]
  },
  {
   "cell_type": "code",
   "execution_count": 12,
   "id": "669bbeb4",
   "metadata": {
    "execution": {
     "iopub.execute_input": "2025-02-03T04:11:55.933581Z",
     "iopub.status.busy": "2025-02-03T04:11:55.932943Z",
     "iopub.status.idle": "2025-02-03T04:11:55.942584Z",
     "shell.execute_reply": "2025-02-03T04:11:55.941403Z"
    },
    "papermill": {
     "duration": 0.02258,
     "end_time": "2025-02-03T04:11:55.944809",
     "exception": false,
     "start_time": "2025-02-03T04:11:55.922229",
     "status": "completed"
    },
    "tags": []
   },
   "outputs": [
    {
     "data": {
      "text/plain": [
       "PassengerId      0\n",
       "Survived         0\n",
       "Pclass           0\n",
       "Name             0\n",
       "Sex              0\n",
       "Age            177\n",
       "SibSp            0\n",
       "Parch            0\n",
       "Ticket           0\n",
       "Fare             0\n",
       "Cabin          687\n",
       "Embarked         2\n",
       "dtype: int64"
      ]
     },
     "execution_count": 12,
     "metadata": {},
     "output_type": "execute_result"
    }
   ],
   "source": [
    "train.isnull().sum()"
   ]
  },
  {
   "cell_type": "code",
   "execution_count": 13,
   "id": "06dd7249",
   "metadata": {
    "execution": {
     "iopub.execute_input": "2025-02-03T04:11:55.965642Z",
     "iopub.status.busy": "2025-02-03T04:11:55.965228Z",
     "iopub.status.idle": "2025-02-03T04:11:55.973689Z",
     "shell.execute_reply": "2025-02-03T04:11:55.972578Z"
    },
    "papermill": {
     "duration": 0.021205,
     "end_time": "2025-02-03T04:11:55.975660",
     "exception": false,
     "start_time": "2025-02-03T04:11:55.954455",
     "status": "completed"
    },
    "tags": []
   },
   "outputs": [],
   "source": [
    "train.drop(columns='Cabin',inplace=True)"
   ]
  },
  {
   "cell_type": "code",
   "execution_count": 14,
   "id": "639cc382",
   "metadata": {
    "execution": {
     "iopub.execute_input": "2025-02-03T04:11:55.996345Z",
     "iopub.status.busy": "2025-02-03T04:11:55.995991Z",
     "iopub.status.idle": "2025-02-03T04:11:56.595979Z",
     "shell.execute_reply": "2025-02-03T04:11:56.594595Z"
    },
    "papermill": {
     "duration": 0.612864,
     "end_time": "2025-02-03T04:11:56.598074",
     "exception": false,
     "start_time": "2025-02-03T04:11:55.985210",
     "status": "completed"
    },
    "tags": []
   },
   "outputs": [],
   "source": [
    "from sklearn.impute import SimpleImputer\n",
    "imputer = SimpleImputer(strategy=\"median\")\n",
    "train['Age'] = imputer.fit_transform(train[['Age']])\n"
   ]
  },
  {
   "cell_type": "code",
   "execution_count": 15,
   "id": "8ec89321",
   "metadata": {
    "execution": {
     "iopub.execute_input": "2025-02-03T04:11:56.620545Z",
     "iopub.status.busy": "2025-02-03T04:11:56.620144Z",
     "iopub.status.idle": "2025-02-03T04:11:56.628900Z",
     "shell.execute_reply": "2025-02-03T04:11:56.627414Z"
    },
    "papermill": {
     "duration": 0.022465,
     "end_time": "2025-02-03T04:11:56.630663",
     "exception": false,
     "start_time": "2025-02-03T04:11:56.608198",
     "status": "completed"
    },
    "tags": []
   },
   "outputs": [
    {
     "name": "stdout",
     "output_type": "stream",
     "text": [
      "0\n"
     ]
    }
   ],
   "source": [
    "train.fillna({'Embarked':train['Embarked'].mode()[0]}, inplace=True)\n",
    "print(train.isnull().sum().sum())"
   ]
  },
  {
   "cell_type": "code",
   "execution_count": 16,
   "id": "e0942124",
   "metadata": {
    "execution": {
     "iopub.execute_input": "2025-02-03T04:11:56.651598Z",
     "iopub.status.busy": "2025-02-03T04:11:56.651172Z",
     "iopub.status.idle": "2025-02-03T04:11:56.682190Z",
     "shell.execute_reply": "2025-02-03T04:11:56.680841Z"
    },
    "papermill": {
     "duration": 0.043939,
     "end_time": "2025-02-03T04:11:56.684133",
     "exception": false,
     "start_time": "2025-02-03T04:11:56.640194",
     "status": "completed"
    },
    "scrolled": false,
    "tags": []
   },
   "outputs": [
    {
     "data": {
      "text/html": [
       "<div>\n",
       "<style scoped>\n",
       "    .dataframe tbody tr th:only-of-type {\n",
       "        vertical-align: middle;\n",
       "    }\n",
       "\n",
       "    .dataframe tbody tr th {\n",
       "        vertical-align: top;\n",
       "    }\n",
       "\n",
       "    .dataframe thead th {\n",
       "        text-align: right;\n",
       "    }\n",
       "</style>\n",
       "<table border=\"1\" class=\"dataframe\">\n",
       "  <thead>\n",
       "    <tr style=\"text-align: right;\">\n",
       "      <th></th>\n",
       "      <th>PassengerId</th>\n",
       "      <th>Survived</th>\n",
       "      <th>Pclass</th>\n",
       "      <th>Age</th>\n",
       "      <th>SibSp</th>\n",
       "      <th>Parch</th>\n",
       "      <th>Fare</th>\n",
       "    </tr>\n",
       "  </thead>\n",
       "  <tbody>\n",
       "    <tr>\n",
       "      <th>count</th>\n",
       "      <td>891.000000</td>\n",
       "      <td>891.000000</td>\n",
       "      <td>891.000000</td>\n",
       "      <td>891.000000</td>\n",
       "      <td>891.000000</td>\n",
       "      <td>891.000000</td>\n",
       "      <td>891.000000</td>\n",
       "    </tr>\n",
       "    <tr>\n",
       "      <th>mean</th>\n",
       "      <td>446.000000</td>\n",
       "      <td>0.383838</td>\n",
       "      <td>2.308642</td>\n",
       "      <td>29.361582</td>\n",
       "      <td>0.523008</td>\n",
       "      <td>0.381594</td>\n",
       "      <td>32.204208</td>\n",
       "    </tr>\n",
       "    <tr>\n",
       "      <th>std</th>\n",
       "      <td>257.353842</td>\n",
       "      <td>0.486592</td>\n",
       "      <td>0.836071</td>\n",
       "      <td>13.019697</td>\n",
       "      <td>1.102743</td>\n",
       "      <td>0.806057</td>\n",
       "      <td>49.693429</td>\n",
       "    </tr>\n",
       "    <tr>\n",
       "      <th>min</th>\n",
       "      <td>1.000000</td>\n",
       "      <td>0.000000</td>\n",
       "      <td>1.000000</td>\n",
       "      <td>0.420000</td>\n",
       "      <td>0.000000</td>\n",
       "      <td>0.000000</td>\n",
       "      <td>0.000000</td>\n",
       "    </tr>\n",
       "    <tr>\n",
       "      <th>25%</th>\n",
       "      <td>223.500000</td>\n",
       "      <td>0.000000</td>\n",
       "      <td>2.000000</td>\n",
       "      <td>22.000000</td>\n",
       "      <td>0.000000</td>\n",
       "      <td>0.000000</td>\n",
       "      <td>7.910400</td>\n",
       "    </tr>\n",
       "    <tr>\n",
       "      <th>50%</th>\n",
       "      <td>446.000000</td>\n",
       "      <td>0.000000</td>\n",
       "      <td>3.000000</td>\n",
       "      <td>28.000000</td>\n",
       "      <td>0.000000</td>\n",
       "      <td>0.000000</td>\n",
       "      <td>14.454200</td>\n",
       "    </tr>\n",
       "    <tr>\n",
       "      <th>75%</th>\n",
       "      <td>668.500000</td>\n",
       "      <td>1.000000</td>\n",
       "      <td>3.000000</td>\n",
       "      <td>35.000000</td>\n",
       "      <td>1.000000</td>\n",
       "      <td>0.000000</td>\n",
       "      <td>31.000000</td>\n",
       "    </tr>\n",
       "    <tr>\n",
       "      <th>max</th>\n",
       "      <td>891.000000</td>\n",
       "      <td>1.000000</td>\n",
       "      <td>3.000000</td>\n",
       "      <td>80.000000</td>\n",
       "      <td>8.000000</td>\n",
       "      <td>6.000000</td>\n",
       "      <td>512.329200</td>\n",
       "    </tr>\n",
       "  </tbody>\n",
       "</table>\n",
       "</div>"
      ],
      "text/plain": [
       "       PassengerId    Survived      Pclass         Age       SibSp  \\\n",
       "count   891.000000  891.000000  891.000000  891.000000  891.000000   \n",
       "mean    446.000000    0.383838    2.308642   29.361582    0.523008   \n",
       "std     257.353842    0.486592    0.836071   13.019697    1.102743   \n",
       "min       1.000000    0.000000    1.000000    0.420000    0.000000   \n",
       "25%     223.500000    0.000000    2.000000   22.000000    0.000000   \n",
       "50%     446.000000    0.000000    3.000000   28.000000    0.000000   \n",
       "75%     668.500000    1.000000    3.000000   35.000000    1.000000   \n",
       "max     891.000000    1.000000    3.000000   80.000000    8.000000   \n",
       "\n",
       "            Parch        Fare  \n",
       "count  891.000000  891.000000  \n",
       "mean     0.381594   32.204208  \n",
       "std      0.806057   49.693429  \n",
       "min      0.000000    0.000000  \n",
       "25%      0.000000    7.910400  \n",
       "50%      0.000000   14.454200  \n",
       "75%      0.000000   31.000000  \n",
       "max      6.000000  512.329200  "
      ]
     },
     "execution_count": 16,
     "metadata": {},
     "output_type": "execute_result"
    }
   ],
   "source": [
    "train.describe()"
   ]
  },
  {
   "cell_type": "markdown",
   "id": "3817e252",
   "metadata": {},
   "source": [
    "#### Encoding Categorical variables"
   ]
  },
  {
   "cell_type": "code",
   "execution_count": null,
   "id": "0ebf3746",
   "metadata": {},
   "outputs": [],
   "source": [
    "from sklearn.preprocessing import LabelEncoder\n",
    "le = LabelEncoder()\n",
    "train['Sex'] = le.fit_transform(train['Sex'])\n",
    "train['Embarked'] = le.fit_transform(train['Embarked'])"
   ]
  },
  {
   "cell_type": "markdown",
   "id": "13d33723",
   "metadata": {},
   "source": [
    "### Data Analysis"
   ]
  },
  {
   "attachments": {},
   "cell_type": "markdown",
   "id": "cf15c819",
   "metadata": {
    "papermill": {
     "duration": 0.009173,
     "end_time": "2025-02-03T04:11:56.703129",
     "exception": false,
     "start_time": "2025-02-03T04:11:56.693956",
     "status": "completed"
    },
    "tags": []
   },
   "source": [
    "#### Survival Count"
   ]
  },
  {
   "cell_type": "code",
   "execution_count": 17,
   "id": "508f3d61",
   "metadata": {
    "execution": {
     "iopub.execute_input": "2025-02-03T04:11:56.725397Z",
     "iopub.status.busy": "2025-02-03T04:11:56.725010Z",
     "iopub.status.idle": "2025-02-03T04:11:56.978084Z",
     "shell.execute_reply": "2025-02-03T04:11:56.976760Z"
    },
    "papermill": {
     "duration": 0.266476,
     "end_time": "2025-02-03T04:11:56.980445",
     "exception": false,
     "start_time": "2025-02-03T04:11:56.713969",
     "status": "completed"
    },
    "tags": []
   },
   "outputs": [
    {
     "data": {
      "image/png": "[encoded data removed]",
      "text/plain": [
       "<Figure size 432x288 with 1 Axes>"
      ]
     },
     "metadata": {
      "needs_background": "light"
     },
     "output_type": "display_data"
    }
   ],
   "source": [
    "\n",
    "sns.countplot(x='Survived',data = train)\n",
    "plt.title('Survival Count')\n",
    "plt.show()"
   ]
  },
  {
   "cell_type": "markdown",
   "id": "a11f04fa",
   "metadata": {
    "papermill": {
     "duration": 0.009666,
     "end_time": "2025-02-03T04:11:57.000483",
     "exception": false,
     "start_time": "2025-02-03T04:11:56.990817",
     "status": "completed"
    },
    "tags": []
   },
   "source": [
    "#### Survival by Gender "
   ]
  },
  {
   "cell_type": "code",
   "execution_count": 18,
   "id": "ec0ca719",
   "metadata": {
    "execution": {
     "iopub.execute_input": "2025-02-03T04:11:57.022074Z",
     "iopub.status.busy": "2025-02-03T04:11:57.021667Z",
     "iopub.status.idle": "2025-02-03T04:11:57.208485Z",
     "shell.execute_reply": "2025-02-03T04:11:57.207313Z"
    },
    "papermill": {
     "duration": 0.200494,
     "end_time": "2025-02-03T04:11:57.211089",
     "exception": false,
     "start_time": "2025-02-03T04:11:57.010595",
     "status": "completed"
    },
    "tags": []
   },
   "outputs": [
    {
     "data": {
      "image/png": "[encoded data removed]",
      "text/plain": [
       "<Figure size 432x288 with 1 Axes>"
      ]
     },
     "metadata": {
      "needs_background": "light"
     },
     "output_type": "display_data"
    }
   ],
   "source": [
    "# Survival by Gender\n",
    "sns.countplot(x='Survived', hue='Sex', data=train, palette='coolwarm')\n",
    "plt.title('Survival by Gender')\n",
    "plt.show()"
   ]
  },
  {
   "cell_type": "code",
   "execution_count": 19,
   "id": "ad820ac4",
   "metadata": {
    "execution": {
     "iopub.execute_input": "2025-02-03T04:11:57.235727Z",
     "iopub.status.busy": "2025-02-03T04:11:57.235327Z",
     "iopub.status.idle": "2025-02-03T04:11:57.245857Z",
     "shell.execute_reply": "2025-02-03T04:11:57.244637Z"
    },
    "papermill": {
     "duration": 0.025805,
     "end_time": "2025-02-03T04:11:57.247766",
     "exception": false,
     "start_time": "2025-02-03T04:11:57.221961",
     "status": "completed"
    },
    "tags": []
   },
   "outputs": [
    {
     "name": "stdout",
     "output_type": "stream",
     "text": [
      "Survival Percentage:\n",
      " Sex\n",
      "female    74.203822\n",
      "male      18.890815\n",
      "Name: Survived, dtype: float64\n"
     ]
    }
   ],
   "source": [
    "# Percentage of survived men and women\n",
    "survival_rate = train.groupby('Sex')['Survived'].mean() * 100\n",
    "print(\"Survival Percentage:\\n\", survival_rate)"
   ]
  },
  {
   "cell_type": "markdown",
   "id": "7c181253",
   "metadata": {
    "papermill": {
     "duration": 0.010844,
     "end_time": "2025-02-03T04:11:57.269801",
     "exception": false,
     "start_time": "2025-02-03T04:11:57.258957",
     "status": "completed"
    },
    "tags": []
   },
   "source": [
    "#### Age Distribution"
   ]
  },
  {
   "cell_type": "code",
   "execution_count": 20,
   "id": "8c105c19",
   "metadata": {
    "execution": {
     "iopub.execute_input": "2025-02-03T04:11:57.293259Z",
     "iopub.status.busy": "2025-02-03T04:11:57.292894Z",
     "iopub.status.idle": "2025-02-03T04:11:57.597026Z",
     "shell.execute_reply": "2025-02-03T04:11:57.595825Z"
    },
    "papermill": {
     "duration": 0.317622,
     "end_time": "2025-02-03T04:11:57.598899",
     "exception": false,
     "start_time": "2025-02-03T04:11:57.281277",
     "status": "completed"
    },
    "tags": []
   },
   "outputs": [
    {
     "data": {
      "image/png": "[encoded data removed]",
      "text/plain": [
       "<Figure size 432x288 with 1 Axes>"
      ]
     },
     "metadata": {
      "needs_background": "light"
     },
     "output_type": "display_data"
    }
   ],
   "source": [
    "sns.histplot(train['Age'], bins=30,kde=True)\n",
    "plt.title('Age Distribution')\n",
    "plt.show()"
   ]
  },
  {
   "cell_type": "markdown",
   "id": "69cb0102",
   "metadata": {},
   "source": [
    "#### Survival by Age and Gender Combined"
   ]
  },
  {
   "cell_type": "code",
   "execution_count": 22,
   "id": "24f78625",
   "metadata": {},
   "outputs": [
    {
     "data": {
      "image/png": "[encoded data removed]",
      "text/plain": [
       "<Figure size 576x360 with 1 Axes>"
      ]
     },
     "metadata": {
      "needs_background": "light"
     },
     "output_type": "display_data"
    }
   ],
   "source": [
    "plt.figure(figsize=(8, 5))\n",
    "sns.violinplot(x='Sex', y='Age', hue='Survived', data=train, split=True, palette='coolwarm')\n",
    "plt.title('Survival Distribution by Age & Gender')\n",
    "plt.show()\n"
   ]
  },
  {
   "cell_type": "markdown",
   "id": "26fa2419",
   "metadata": {
    "papermill": {
     "duration": 0.010722,
     "end_time": "2025-02-03T04:11:57.621045",
     "exception": false,
     "start_time": "2025-02-03T04:11:57.610323",
     "status": "completed"
    },
    "tags": []
   },
   "source": [
    "#### Survival by Passenger Class"
   ]
  },
  {
   "cell_type": "code",
   "execution_count": 23,
   "id": "f6b1a266",
   "metadata": {
    "execution": {
     "iopub.execute_input": "2025-02-03T04:11:57.644885Z",
     "iopub.status.busy": "2025-02-03T04:11:57.644421Z",
     "iopub.status.idle": "2025-02-03T04:11:57.955586Z",
     "shell.execute_reply": "2025-02-03T04:11:57.953931Z"
    },
    "papermill": {
     "duration": 0.325722,
     "end_time": "2025-02-03T04:11:57.958107",
     "exception": false,
     "start_time": "2025-02-03T04:11:57.632385",
     "status": "completed"
    },
    "tags": []
   },
   "outputs": [
    {
     "data": {
      "image/png": "[encoded data removed]",
      "text/plain": [
       "<Figure size 432x288 with 1 Axes>"
      ]
     },
     "metadata": {
      "needs_background": "light"
     },
     "output_type": "display_data"
    }
   ],
   "source": [
    "sns.countplot(x='Survived', hue='Pclass', data=train)\n",
    "plt.title('Survival by Passenger Class')\n",
    "plt.show()"
   ]
  },
  {
   "cell_type": "markdown",
   "id": "0bfaaf48",
   "metadata": {},
   "source": [
    "#### Survival by Embarked location"
   ]
  },
  {
   "cell_type": "code",
   "execution_count": 24,
   "id": "4ed83fac",
   "metadata": {
    "execution": {
     "iopub.execute_input": "2025-02-03T04:11:57.987851Z",
     "iopub.status.busy": "2025-02-03T04:11:57.987414Z",
     "iopub.status.idle": "2025-02-03T04:11:58.241313Z",
     "shell.execute_reply": "2025-02-03T04:11:58.240370Z"
    },
    "papermill": {
     "duration": 0.268732,
     "end_time": "2025-02-03T04:11:58.243313",
     "exception": false,
     "start_time": "2025-02-03T04:11:57.974581",
     "status": "completed"
    },
    "tags": []
   },
   "outputs": [
    {
     "data": {
      "image/png": "[encoded data removed]",
      "text/plain": [
       "<Figure size 432x288 with 1 Axes>"
      ]
     },
     "metadata": {
      "needs_background": "light"
     },
     "output_type": "display_data"
    }
   ],
   "source": [
    "\n",
    "plt.figure(figsize=(6, 4))\n",
    "sns.countplot(x='Embarked', hue='Survived', data=train, palette='coolwarm')\n",
    "plt.title('Survival by Embarked Location')\n",
    "plt.xlabel('Port of Embarkation')\n",
    "plt.ylabel('Count')\n",
    "plt.show()"
   ]
  },
  {
   "cell_type": "markdown",
   "id": "3d419b1e",
   "metadata": {},
   "source": [
    "#### Survival by Family Size"
   ]
  },
  {
   "cell_type": "code",
   "execution_count": 31,
   "id": "f37b733b",
   "metadata": {},
   "outputs": [
    {
     "data": {
      "image/png": "[encoded data removed]",
      "text/plain": [
       "<Figure size 432x288 with 1 Axes>"
      ]
     },
     "metadata": {
      "needs_background": "light"
     },
     "output_type": "display_data"
    }
   ],
   "source": [
    "train['FamilySize'] = train['SibSp'] + train['Parch'] + 1\n",
    "sns.barplot(x='FamilySize', y='Survived', data=train, palette='coolwarm')\n",
    "plt.title('Survival Rate by Family Size')\n",
    "plt.show()\n"
   ]
  },
  {
   "cell_type": "markdown",
   "id": "e09e1117",
   "metadata": {
    "execution": {
     "iopub.execute_input": "2025-02-03T01:08:05.103433Z",
     "iopub.status.busy": "2025-02-03T01:08:05.103003Z",
     "iopub.status.idle": "2025-02-03T01:08:05.107910Z",
     "shell.execute_reply": "2025-02-03T01:08:05.106497Z",
     "shell.execute_reply.started": "2025-02-03T01:08:05.103401Z"
    },
    "papermill": {
     "duration": 0.011815,
     "end_time": "2025-02-03T04:11:58.335212",
     "exception": false,
     "start_time": "2025-02-03T04:11:58.323397",
     "status": "completed"
    },
    "tags": []
   },
   "source": [
    "#### Correlation Heatmap"
   ]
  },
  {
   "cell_type": "code",
   "execution_count": 32,
   "id": "f340382a",
   "metadata": {
    "execution": {
     "iopub.execute_input": "2025-02-03T04:11:58.361708Z",
     "iopub.status.busy": "2025-02-03T04:11:58.361323Z",
     "iopub.status.idle": "2025-02-03T04:11:58.880109Z",
     "shell.execute_reply": "2025-02-03T04:11:58.878608Z"
    },
    "papermill": {
     "duration": 0.534984,
     "end_time": "2025-02-03T04:11:58.882894",
     "exception": false,
     "start_time": "2025-02-03T04:11:58.347910",
     "status": "completed"
    },
    "tags": []
   },
   "outputs": [
    {
     "data": {
      "image/png": "[encoded data removed]",
      "text/plain": [
       "<Figure size 720x432 with 2 Axes>"
      ]
     },
     "metadata": {
      "needs_background": "light"
     },
     "output_type": "display_data"
    }
   ],
   "source": [
    "train_num = train.select_dtypes(include=['number'])\n",
    "# Correlation Heatmap\n",
    "plt.figure(figsize=(10,6))\n",
    "sns.heatmap(train_num.corr(), annot=True, cmap='coolwarm', linewidths=0.5)\n",
    "plt.title('Correlation Heatmap')\n",
    "plt.show()"
   ]
  },
  {
   "cell_type": "markdown",
   "id": "10bb7424",
   "metadata": {},
   "source": [
    "#### Fare vs Passenger Class"
   ]
  },
  {
   "cell_type": "code",
   "execution_count": 34,
   "id": "a0a5c1e9",
   "metadata": {
    "execution": {
     "iopub.execute_input": "2025-02-03T04:11:58.912821Z",
     "iopub.status.busy": "2025-02-03T04:11:58.912408Z",
     "iopub.status.idle": "2025-02-03T04:11:59.103879Z",
     "shell.execute_reply": "2025-02-03T04:11:59.102589Z"
    },
    "papermill": {
     "duration": 0.208292,
     "end_time": "2025-02-03T04:11:59.105729",
     "exception": false,
     "start_time": "2025-02-03T04:11:58.897437",
     "status": "completed"
    },
    "tags": []
   },
   "outputs": [
    {
     "data": {
      "image/png": "[encoded data removed]",
      "text/plain": [
       "<Figure size 432x288 with 1 Axes>"
      ]
     },
     "metadata": {
      "needs_background": "light"
     },
     "output_type": "display_data"
    }
   ],
   "source": [
    "# Scatter plot between Passenger Class and Fare\n",
    "sns.boxplot(x='Pclass', y='Fare', data=train, palette='coolwarm')\n",
    "plt.title('Fare Distribution by Passenger Class')\n",
    "plt.xlabel('Passenger Class')\n",
    "plt.ylabel('Fare')\n",
    "plt.show()"
   ]
  },
  {
   "cell_type": "code",
   "execution_count": 38,
   "id": "0e0ccb2d",
   "metadata": {},
   "outputs": [
    {
     "name": "stdout",
     "output_type": "stream",
     "text": [
      "Chi-Square Test for Sex: p-value = 0.00000\n",
      "Sex has a statistically significant relationship with survival.\n",
      "Chi-Square Test for Pclass: p-value = 0.00000\n",
      "Pclass has a statistically significant relationship with survival.\n",
      "Chi-Square Test for Embarked: p-value = 0.00000\n",
      "Embarked has a statistically significant relationship with survival.\n"
     ]
    }
   ],
   "source": [
    "# Statistical Analysis: Chi-Square Test for Categorical Features\n",
    "from scipy.stats import chi2_contingency\n",
    "chi2_features = ['Sex', 'Pclass', 'Embarked']\n",
    "for feature in chi2_features:\n",
    "    table = pd.crosstab(train[feature], train['Survived'])\n",
    "    chi2, p, _, _ = chi2_contingency(table)\n",
    "    print(f\"Chi-Square Test for {feature}: p-value = {p:.5f}\")\n",
    "    if p < 0.05:\n",
    "        print(f\"{feature} has a statistically significant relationship with survival.\")\n",
    "    else:\n",
    "        print(f\"{feature} does not have a statistically significant relationship with survival.\")"
   ]
  },
  {
   "cell_type": "markdown",
   "id": "f954dd35",
   "metadata": {
    "papermill": {
     "duration": 0.014665,
     "end_time": "2025-02-03T04:11:59.135391",
     "exception": false,
     "start_time": "2025-02-03T04:11:59.120726",
     "status": "completed"
    },
    "tags": []
   },
   "source": [
    "#### Insights\n",
    "1. Women had a significantly higher survival rate than men.\n",
    "2. First-class passengers were more likely to survive than lower-class passengers.\n",
    "3. Younger passengers, particularly children, had better survival rates.\n",
    "4. Passengers who embarked from 'C' had a slightly higher survival rate.\n",
    "5. Passengers with higher fare prices had better chances of survival, indicating wealth played a role.\n",
    "6. Traveling alone negatively impacted survival rates.\n",
    "7. The Chi-Square test confirms that Sex, Pclass, and Embarked have a significant relationship with survival.\n",
    "\n"
   ]
  },
  {
   "cell_type": "code",
   "execution_count": null,
   "id": "c90ca9a7",
   "metadata": {
    "papermill": {
     "duration": 0.01656,
     "end_time": "2025-02-03T04:12:36.801813",
     "exception": false,
     "start_time": "2025-02-03T04:12:36.785253",
     "status": "completed"
    },
    "tags": []
   },
   "outputs": [],
   "source": []
  }
 ],
 "metadata": {
  "kaggle": {
   "accelerator": "none",
   "dataSources": [
    {
     "databundleVersionId": 26502,
     "sourceId": 3136,
     "sourceType": "competition"
    }
   ],
   "dockerImageVersionId": 30839,
   "isGpuEnabled": false,
   "isInternetEnabled": true,
   "language": "python",
   "sourceType": "notebook"
  },
  "kernelspec": {
   "display_name": "Python 3 (ipykernel)",
   "language": "python",
   "name": "python3"
  },
  "language_info": {
   "codemirror_mode": {
    "name": "ipython",
    "version": 3
   },
   "file_extension": ".py",
   "mimetype": "text/x-python",
   "name": "python",
   "nbconvert_exporter": "python",
   "pygments_lexer": "ipython3",
   "version": "3.9.12"
  },
  "papermill": {
   "default_parameters": {},
   "duration": 47.949221,
   "end_time": "2025-02-03T04:12:37.640255",
   "environment_variables": {},
   "exception": null,
   "input_path": "__notebook__.ipynb",
   "output_path": "__notebook__.ipynb",
   "parameters": {},
   "start_time": "2025-02-03T04:11:49.691034",
   "version": "2.6.0"
  }
 },
 "nbformat": 4,
 "nbformat_minor": 5
}
